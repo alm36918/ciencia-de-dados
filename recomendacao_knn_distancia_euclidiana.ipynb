{
  "nbformat": 4,
  "nbformat_minor": 0,
  "metadata": {
    "colab": {
      "name": "recomendacao_knn_distancia_euclidiana.ipynb",
      "provenance": [],
      "collapsed_sections": [],
      "authorship_tag": "ABX9TyOmYeIDYIErOoRBzrJjanX9",
      "include_colab_link": true
    },
    "kernelspec": {
      "name": "python3",
      "display_name": "Python 3"
    }
  },
  "cells": [
    {
      "cell_type": "markdown",
      "metadata": {
        "id": "view-in-github",
        "colab_type": "text"
      },
      "source": [
        "<a href=\"https://colab.research.google.com/github/alm36918/ciencia-de-dados/blob/master/recomendacao_knn_distancia_euclidiana.ipynb\" target=\"_parent\"><img src=\"https://colab.research.google.com/assets/colab-badge.svg\" alt=\"Open In Colab\"/></a>"
      ]
    },
    {
      "cell_type": "code",
      "metadata": {
        "id": "1Uc6KkMeAy6V",
        "colab_type": "code",
        "colab": {}
      },
      "source": [
        "\"\"\"Uso do Algoritmo KNN - K-Nearest Neighbors para recomendação de Cursos, utilizando Distância Euclidiana. Faz parte do meu estudo em relação a Inteligência Artificial e Python.\n",
        "Materiais para consulta e entendimento do algoritmo: https://medium.com/brasil-ai/knn-k-nearest-neighbors-1-e140c82e9c4e\"\"\"\n",
        "\n",
        "#simulação de usuários e avaliações de cursos na EduJob\n",
        "\n",
        "avaliacoes = {'André': \n",
        "\t\t{\"As cinco competências do futuro\": 4.8, \n",
        "\t\t \"Primeira Planilha no Excel\": 2.8,\n",
        "\t\t \"Meu primeiro processo seletivo\": 4.7, \n",
        "\t\t \"Marketing Digital 1\": 4.6, \n",
        "\t\t \"Marketing Digital 2\": 2.5, \n",
        "\t\t \"A sociedade e suas diversidades\": 4.5,\n",
        "     \"Aprendendo a Usar o Word\": 4.8,\n",
        "     \"Ética: como lidar com o mundo profissional\": 1.9,\n",
        "     \"Empreendedorismo: A criação de novos negócios\": 4.8},\n",
        "\t \n",
        "\t  \"Igor\": \n",
        "\t\t{\"As cinco competências do futuro\": 2.5, \n",
        "\t\t \"Primeira Planilha no Excel\": 3.5,\n",
        "\t\t \"Meu primeiro processo seletivo\": 3.0, \n",
        "\t\t \"Marketing Digital 1\": 3.5, \n",
        "\t\t \"Marketing Digital 2\": 2.5, \n",
        "\t\t \"A sociedade e suas diversidades\": 3.0,\n",
        "     \"Aprendendo a Usar o Word\": 3.8,\n",
        "     \"Ética: como lidar com o mundo profissional\": 4.9,\n",
        "     \"Empreendedorismo: A criação de novos negócios\": 3.7},\n",
        "\n",
        "\t  \"Taciano\": \n",
        "\t  {\"As cinco competências do futuro\": 4.5, \n",
        "\t\t \"Primeira Planilha no Excel\": 3.9,\n",
        "\t\t \"Meu primeiro processo seletivo\": 3.8, \n",
        "\t\t \"Marketing Digital 1\": 3.6, \n",
        "\t\t \"A sociedade e suas diversidades\": 5.0,\n",
        "     \"Aprendendo a Usar o Word\": 4.8,\n",
        "     \"Empreendedorismo: A criação de novos negócios\": 3.5},\n",
        "\t\t\t \n",
        "\t  \"Rafaella\": \n",
        "\t\t{\"As cinco competências do futuro\": 4.3, \n",
        "\t\t \"Meu primeiro processo seletivo\": 2.0, \n",
        "\t\t \"Marketing Digital 1\": 4.4, \n",
        "\t\t \"Marketing Digital 2\": 4.7, \n",
        "\t\t \"A sociedade e suas diversidades\": 5.0,\n",
        "     \"Aprendendo a Usar o Word\": 3.8,\n",
        "     \"Ética: como lidar com o mundo profissional\": 4.5},\n",
        "\t\t\t\t \n",
        "\t  \"Rhayssa\": \n",
        "\t\t{\"Primeira Planilha no Excel\": 3.5,\n",
        "\t\t \"Meu primeiro processo seletivo\": 3.0, \n",
        "\t\t \"Marketing Digital 1\": 3.5, \n",
        "\t\t \"Marketing Digital 2\": 2.5, \n",
        "\t\t \"A sociedade e suas diversidades\": 3.0,\n",
        "     \"Aprendendo a Usar o Word\": 3.8,\n",
        "     \"Ética: como lidar com o mundo profissional\": 4.9,\n",
        "     \"Empreendedorismo: A criação de novos negócios\": 2.1}, \n",
        "\n",
        "\t  \"Giovanna\": \n",
        "\t  {\"As cinco competências do futuro\": 2.5, \n",
        "\t\t \"Primeira Planilha no Excel\": 3.5, \n",
        "\t\t \"Marketing Digital 1\": 3.5, \n",
        "\t\t \"Marketing Digital 2\": 2.5, \n",
        "\t\t \"A sociedade e suas diversidades\": 3.0,\n",
        "     \"Aprendendo a Usar o Word\": 3.8,\n",
        "     \"Ética: como lidar com o mundo profissional\": 4.9,\n",
        "     \"Empreendedorismo: A criação de novos negócios\": 2.9},\n",
        "\t\t\t  \n",
        "\t  \"Letícia\": \n",
        "\t  {\"As cinco competências do futuro\": 2.5, \n",
        "     \"Aprendendo a Usar o Word\": 3.8,\n",
        "     \"Ética: como lidar com o mundo profissional\": 4.9,\n",
        "     \"Empreendedorismo: A criação de novos negócios\": 3.7},\n",
        "\n",
        "    \"Janderson\":\n",
        "    {\"As cinco competências do futuro\": 2.5, \n",
        "\t\t \"Meu primeiro processo seletivo\": 3.0, \n",
        "\t\t \"Marketing Digital 1\": 3.5, \n",
        "\t\t \"Marketing Digital 2\": 2.5, \n",
        "\t\t \"A sociedade e suas diversidades\": 3.0,},\n",
        "\n",
        "     \"Deco\":\n",
        "     {\"Marketing Digital 1\": 3.5, \n",
        "\t\t \"Marketing Digital 2\": 2.5, \n",
        "\t\t \"A sociedade e suas diversidades\": 3.0,\n",
        "     \"Aprendendo a Usar o Word\": 3.8,\n",
        "     \"Ética: como lidar com o mundo profissional\": 4.9,\n",
        "     \"Empreendedorismo: A criação de novos negócios\": 4.7}\n",
        "}\n",
        "\n",
        "#importar função sqtr da biblioteca math para calcular raiz quadrada\n",
        "\n",
        "from math import sqrt\n",
        "\n",
        "#função para encontrar Distância Euclidiana entre os usuários\n",
        "\n",
        "def euclidiana(usuario1, usuario2):\n",
        "    si = {}\n",
        "    for item in avaliacoes[usuario1]:\n",
        "       if item in avaliacoes[usuario2]: si[item] = 1\n",
        "\n",
        "    if len(si) == 0: return 0\n",
        "\n",
        "    soma = sum([pow(avaliacoes[usuario1][item] - avaliacoes[usuario2][item], 2)\n",
        "                for item in avaliacoes[usuario1] if item in avaliacoes[usuario2]])\n",
        "    return 1/(1 + sqrt(soma))\n",
        "\n",
        "#função para calcular similaridades entre os usuários\n",
        "\n",
        "def getSimilares(usuario):\n",
        "    similaridade = [(euclidiana(usuario, outro), outro)\n",
        "                    for outro in avaliacoes if outro != usuario]\n",
        "    similaridade.sort()\n",
        "    similaridade.reverse()\n",
        "    return similaridade[0:30]\n",
        "\n",
        "#função para recomendações baseado em usuários\n",
        "\n",
        "def getRecomendacoes(usuario):\n",
        "    totais={}\n",
        "    somaSimilaridade={}\n",
        "    for outro in avaliacoes:\n",
        "        if outro == usuario: continue\n",
        "        similaridade = euclidiana(usuario, outro)\n",
        "\n",
        "        if similaridade <= 0: continue\n",
        "\n",
        "        for item in avaliacoes[outro]:\n",
        "            if item not in avaliacoes[usuario]:\n",
        "                totais.setdefault(item, 0)\n",
        "                totais[item] += avaliacoes[outro][item] * similaridade\n",
        "                somaSimilaridade.setdefault(item, 0)\n",
        "                somaSimilaridade[item] += similaridade\n",
        "    rankings=[(total / somaSimilaridade[item], item) for item, total in totais.items()]\n",
        "    rankings.sort()\n",
        "    rankings.reverse()\n",
        "    return rankings[0:30]"
      ],
      "execution_count": 59,
      "outputs": []
    },
    {
      "cell_type": "code",
      "metadata": {
        "id": "CvHBGrl_RZnG",
        "colab_type": "code",
        "colab": {
          "base_uri": "https://localhost:8080/",
          "height": 153
        },
        "outputId": "2b164593-cf85-4a46-d150-c569baff41bc"
      },
      "source": [
        "getSimilares(\"André\")"
      ],
      "execution_count": 60,
      "outputs": [
        {
          "output_type": "execute_result",
          "data": {
            "text/plain": [
              "[(0.30795568035170945, 'Taciano'),\n",
              " (0.22666770882015, 'Janderson'),\n",
              " (0.21412589099442772, 'Deco'),\n",
              " (0.1975496259559987, 'Letícia'),\n",
              " (0.18116087246504423, 'Rafaella'),\n",
              " (0.17300537121678938, 'Giovanna'),\n",
              " (0.171492790137532, 'Igor'),\n",
              " (0.16914092677587783, 'Rhayssa')]"
            ]
          },
          "metadata": {
            "tags": []
          },
          "execution_count": 60
        }
      ]
    },
    {
      "cell_type": "code",
      "metadata": {
        "id": "ZHTTdX-IWL57",
        "colab_type": "code",
        "colab": {}
      },
      "source": [
        ""
      ],
      "execution_count": 57,
      "outputs": []
    }
  ]
}